{
 "cells": [
  {
   "cell_type": "markdown",
   "metadata": {},
   "source": [
    "# PPA1  \n",
    "\n",
    "> Move all the .txt files present in the current directory to the directory level1 present inside the current directory, do not move any other files other than .txt files. The operation should not change your current working directory at the end.\n",
    "Hint: Can be done with a single command.  \n",
    "\n",
    "    mv *.txt ./level1"
   ]
  },
  {
   "cell_type": "markdown",
   "metadata": {},
   "source": [
    "# PPA2  \n",
    "\n",
    "> Create a folder in the current working directory named folders and store a file named files.txt containing the list of files in the long format(i.e. using ls -l) in the parent directory of folders i.e in the current working directory. The operation should not change your current working directory at the end.  \n",
    "\n",
    "    mkdir folders\n",
    "    ls -l > ./folders/files.txt"
   ]
  }
 ],
 "metadata": {
  "language_info": {
   "name": "python"
  },
  "orig_nbformat": 4
 },
 "nbformat": 4,
 "nbformat_minor": 2
}

{
 "cells": [
  {
   "cell_type": "markdown",
   "metadata": {},
   "source": [
    "# GrPA1  \n",
    "\n",
    "> There is a file named present.txt  in the current directory containing some text. Add the path of present working directory at the end of the file present.txt. The text you add should start at a new line at the end of the file, and nothing else should be added or removed from the file.  \n",
    "<br>\n",
    "\n",
    "\n",
    "    pwd >> present.txt"
   ]
  },
  {
   "cell_type": "markdown",
   "metadata": {},
   "source": [
    "# GrPA2  \n",
    "\n",
    "> Create an empty file named \"systemcommands\" in the present working directory and change its permissions to  \n",
    ">\n",
    ">- user: read, write, execute  \n",
    ">- group: execute  \n",
    ">- others: write  \n",
    "<br>\n",
    "\n",
    "    touch systemcommands\n",
    "    chmod 712 systemcommands"
   ]
  },
  {
   "cell_type": "markdown",
   "metadata": {},
   "source": [
    "# GrPA3  \n",
    "\n",
    "> We want to change the file permissions of \"someFile.txt\" file as follows.  \n",
    ">\n",
    ">- user: execute  \n",
    ">- group: execute, read  \n",
    ">- others: write  \n",
    ">\n",
    "> We will use the command chmod XXX someFile.txt where XXX represents a 3 digit number used to set the above permissions. Create a file named permissions.digits in the current working directory that contains only the three digit number that should replace XXX in the above command.  \n",
    "<br>  \n",
    "\n",
    "    printf \"152\" > permissions.digits\n",
    "\n",
    "    echo 152 > permissions.digits"
   ]
  },
  {
   "cell_type": "markdown",
   "metadata": {},
   "source": [
    "# GrPA4  \n",
    "\n",
    "> Create a file named filetypes.txt and store the file types of all the files stored in the current directory. The format of filetypes.txt will be as described below. The first column is file/directory name and the second column tells about the file type.\n",
    "> \n",
    ">- file.txt:                             empty\n",
    ">- Notes:                                directory\n",
    ">- SysComm:                              symbolic link to ../SysComm Dropbox\n",
    ">- System Commands Sample Questions.md:  UTF-8 Unicode text, with very long lines\n",
    ">- System Commands Sample Questions.pdf: PDF document, version 1.7  \n",
    "<br>\n",
    "\n",
    "    file * > filetypes.txt"
   ]
  },
  {
   "cell_type": "markdown",
   "metadata": {},
   "source": [
    "# GrPA5  \n",
    "\n",
    "> Write two commands one on each line for the following two tasks.  \n",
    ">\n",
    ">- Move only the file file_1 present in dir_1 to the empty directorydir_2.  \n",
    ">- Delete the directory dir_1.  \n",
    ">\n",
    "> dir_1 and dir_2 are directories in the current working directory. The operation should not change your current working directory.  \n",
    "> <br>\n",
    "\n",
    "    mv ./dir_1/file_1 ./dir_2\n",
    "    rm -r dir_1"
   ]
  }
 ],
 "metadata": {
  "language_info": {
   "name": "python"
  },
  "orig_nbformat": 4
 },
 "nbformat": 4,
 "nbformat_minor": 2
}
